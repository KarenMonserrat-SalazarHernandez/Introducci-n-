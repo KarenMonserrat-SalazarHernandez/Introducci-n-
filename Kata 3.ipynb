{
 "cells": [
  {
   "cell_type": "markdown",
   "metadata": {},
   "source": [
    "Problema 1 (Asteroide)"
   ]
  },
  {
   "cell_type": "code",
   "execution_count": 18,
   "metadata": {},
   "outputs": [
    {
     "name": "stdout",
     "output_type": "stream",
     "text": [
      "EL ASTEROIDE ESTA POR LLEGAR, TOME PRECAUCIONES\n"
     ]
    }
   ],
   "source": [
    "asteroide = 49\n",
    "if asteroide > 25:\n",
    "        print('EL ASTEROIDE ESTA POR LLEGAR, TOME PRECAUCIONES')\n",
    "else:\n",
    "     print('TRANQUILIDAD')"
   ]
  },
  {
   "cell_type": "markdown",
   "metadata": {},
   "source": [
    "Problema 2 "
   ]
  },
  {
   "cell_type": "code",
   "execution_count": 19,
   "metadata": {},
   "outputs": [
    {
     "name": "stdout",
     "output_type": "stream",
     "text": [
      "Cielo Normal\n"
     ]
    }
   ],
   "source": [
    "asteroide = 19\n",
    "if asteroide > 20:\n",
    "    print('Cielo Brillante')\n",
    "elif asteroide == 20:\n",
    "    print('Cielo Brillante')\n",
    "else:\n",
    "    print('Cielo Normal')"
   ]
  },
  {
   "cell_type": "markdown",
   "metadata": {},
   "source": [
    "Problema 3"
   ]
  },
  {
   "cell_type": "code",
   "execution_count": 20,
   "metadata": {},
   "outputs": [
    {
     "name": "stdout",
     "output_type": "stream",
     "text": [
      "Cielo Brillante\n"
     ]
    }
   ],
   "source": [
    "Vasteroide = 25\n",
    "Tasteroide = 55\n",
    "if Vasteroide > 25 and Tasteroide > 25:\n",
    "    print('Peligro')\n",
    "elif Vasteroide >= 20:\n",
    "    print('Cielo Brillante')\n",
    "elif Tasteroide < 25:\n",
    "    print('Cielo Normal')\n",
    "else:\n",
    "    print('Cielo Normal')"
   ]
  }
 ],
 "metadata": {
  "interpreter": {
   "hash": "fce4a3f22f87a0e571d41e2ed6de2d579509055d51fc2963e886be595ffc361e"
  },
  "kernelspec": {
   "display_name": "Python 3.10.2 64-bit",
   "language": "python",
   "name": "python3"
  },
  "language_info": {
   "codemirror_mode": {
    "name": "ipython",
    "version": 3
   },
   "file_extension": ".py",
   "mimetype": "text/x-python",
   "name": "python",
   "nbconvert_exporter": "python",
   "pygments_lexer": "ipython3",
   "version": "3.10.2"
  },
  "orig_nbformat": 4
 },
 "nbformat": 4,
 "nbformat_minor": 2
}
