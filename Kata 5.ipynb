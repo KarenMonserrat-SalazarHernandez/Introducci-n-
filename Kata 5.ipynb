{
 "cells": [
  {
   "cell_type": "markdown",
   "metadata": {},
   "source": [
    "Ejercicio 1 - Utilizar operadores aritméticos"
   ]
  },
  {
   "cell_type": "code",
   "execution_count": 39,
   "metadata": {},
   "outputs": [],
   "source": [
    "Tierra = 149597870\n",
    "Júpiter = 778547200"
   ]
  },
  {
   "cell_type": "code",
   "execution_count": 40,
   "metadata": {},
   "outputs": [
    {
     "name": "stdout",
     "output_type": "stream",
     "text": [
      "628949330\n",
      "390577533.93\n"
     ]
    }
   ],
   "source": [
    "dkm = Júpiter - Tierra \n",
    "print (dkm)\n",
    "\n",
    "dmi = dkm * 0.621\n",
    "print (dmi)"
   ]
  },
  {
   "cell_type": "markdown",
   "metadata": {},
   "source": [
    "Ejercicio 2: convierte cadenas en números y usa valores absolutos"
   ]
  },
  {
   "cell_type": "code",
   "execution_count": 41,
   "metadata": {},
   "outputs": [],
   "source": [
    "Planeta1 = input(\"Ingresa la distancia en km\")\n",
    "Planeta2 = input(\"Ingresa la distancia en km\")"
   ]
  },
  {
   "cell_type": "code",
   "execution_count": 42,
   "metadata": {},
   "outputs": [],
   "source": [
    "Planeta1 = int(Planeta1)\n",
    "Planeta2 = int(Planeta2) "
   ]
  },
  {
   "cell_type": "code",
   "execution_count": 43,
   "metadata": {},
   "outputs": [
    {
     "name": "stdout",
     "output_type": "stream",
     "text": [
      "4345500000\n",
      "2698555500.0\n"
     ]
    }
   ],
   "source": [
    "dkm = Planeta2 - Planeta1\n",
    "print(dkm)\n",
    "\n",
    "dmi = dkm * 0.621\n",
    "print(abs(dmi))"
   ]
  }
 ],
 "metadata": {
  "interpreter": {
   "hash": "fce4a3f22f87a0e571d41e2ed6de2d579509055d51fc2963e886be595ffc361e"
  },
  "kernelspec": {
   "display_name": "Python 3.10.2 64-bit",
   "language": "python",
   "name": "python3"
  },
  "language_info": {
   "codemirror_mode": {
    "name": "ipython",
    "version": 3
   },
   "file_extension": ".py",
   "mimetype": "text/x-python",
   "name": "python",
   "nbconvert_exporter": "python",
   "pygments_lexer": "ipython3",
   "version": "3.10.2"
  },
  "orig_nbformat": 4
 },
 "nbformat": 4,
 "nbformat_minor": 2
}
