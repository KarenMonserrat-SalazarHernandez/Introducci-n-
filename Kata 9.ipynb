{
 "cells": [
  {
   "cell_type": "markdown",
   "metadata": {},
   "source": [
    "Ejercicio: Uso de funciones en Python\n",
    "\n",
    "\n",
    "Ejercicio 1: Trabajar con argumentos en funciones"
   ]
  },
  {
   "cell_type": "code",
   "execution_count": 44,
   "metadata": {},
   "outputs": [],
   "source": [
    "def informe(tanque1, tanque2, tanque3):\n",
    "    total_combustible = (tanque1 + tanque2 + tanque3) / 3\n",
    "    return f\"\"\"Reporte:\n",
    "    Total: {total_combustible}%\n",
    "    tanque1: {tanque1}%\n",
    "    tanque2: {tanque2}%\n",
    "    tanque3: {tanque3}% \n",
    "    \"\"\""
   ]
  },
  {
   "cell_type": "code",
   "execution_count": 45,
   "metadata": {},
   "outputs": [
    {
     "name": "stdout",
     "output_type": "stream",
     "text": [
      "Reporte:\n",
      "    Total: 70.0%\n",
      "    tanque1: 50%\n",
      "    tanque2: 70%\n",
      "    tanque3: 90% \n",
      "    \n"
     ]
    }
   ],
   "source": [
    "print(informe(50, 70, 90))"
   ]
  },
  {
   "cell_type": "code",
   "execution_count": 46,
   "metadata": {},
   "outputs": [
    {
     "data": {
      "text/plain": [
       "73.33333333333333"
      ]
     },
     "execution_count": 46,
     "metadata": {},
     "output_type": "execute_result"
    }
   ],
   "source": [
    "def promedio(values):\n",
    "    total = sum(values)\n",
    "    num = len(values)\n",
    "    return total / num\n",
    "\n",
    "promedio([65, 80, 75]) "
   ]
  },
  {
   "cell_type": "code",
   "execution_count": 47,
   "metadata": {},
   "outputs": [
    {
     "name": "stdout",
     "output_type": "stream",
     "text": [
      "Reporte:\n",
      "    Total: 68.33333333333333%\n",
      "    tanque1: 80%\n",
      "    tanque2: 66%\n",
      "    tanque3: 59%  \n",
      "    \n"
     ]
    }
   ],
   "source": [
    "def reporte(tanque1, tanque2, tanque3):\n",
    "    return f\"\"\"Reporte:\n",
    "    Total: {promedio([tanque1, tanque2, tanque3])}%\n",
    "    tanque1: {tanque1}%\n",
    "    tanque2: {tanque2}%\n",
    "    tanque3: {tanque3}%  \n",
    "    \"\"\"\n",
    "print(reporte(80, 66, 59))"
   ]
  },
  {
   "cell_type": "markdown",
   "metadata": {},
   "source": [
    "Ejercicio 2: Trabajo con argumentos de palabra clave\n",
    "\n",
    "\n",
    "Ejercicio : Trabajar con argumentos de palabras clave en funciones"
   ]
  },
  {
   "cell_type": "code",
   "execution_count": 48,
   "metadata": {},
   "outputs": [
    {
     "name": "stdout",
     "output_type": "stream",
     "text": [
      "\n",
      "    Misión of the Moon\n",
      "    Tiempo Total: 84 minutes\n",
      "    Combustible Total: 600 gallons\n",
      "    \n"
     ]
    }
   ],
   "source": [
    "def reporte(horapreL, horaV, destino, tanque1, tanque2):\n",
    "    return f\"\"\"\n",
    "    Misión {destino}\n",
    "    Tiempo Total: {horapreL + horaV} minutes\n",
    "    Combustible Total: {tanque1 + tanque2} gallons\n",
    "    \"\"\"\n",
    "\n",
    "print(reporte(18, 66, \"of the Moon\", 100, 500))"
   ]
  },
  {
   "cell_type": "code",
   "execution_count": 49,
   "metadata": {},
   "outputs": [
    {
     "name": "stdout",
     "output_type": "stream",
     "text": [
      "\n",
      "    Misiónof the Moon\n",
      "    Tiempo Total: 76 minutes\n",
      "    Combustible Total: 600\n",
      "    \n"
     ]
    }
   ],
   "source": [
    "def reporte(destino, * minutos, **depositoC):\n",
    "    return f\"\"\"\n",
    "    Misión{destino}\n",
    "    Tiempo Total: {sum(minutos)} minutes\n",
    "    Combustible Total: {sum(depositoC.values())}\n",
    "    \"\"\"\n",
    "\n",
    "print(reporte(\"of the Moon\", 12, 28, 36, t2=500, t1=100))"
   ]
  },
  {
   "cell_type": "code",
   "execution_count": 50,
   "metadata": {},
   "outputs": [
    {
     "name": "stdout",
     "output_type": "stream",
     "text": [
      "\n",
      "    Misiónof the Moon\n",
      "    Tiempo Total: 74 minutes\n",
      "    Combustible Total: 600\n",
      "    t2 tanque --> 500 galones restantes\n",
      "t1 tanque --> 100 galones restantes\n",
      "\n"
     ]
    }
   ],
   "source": [
    "def reporte(destino, *minutos, **depositoC):\n",
    "    reporteP = f\"\"\"\n",
    "    Misión{destino}\n",
    "    Tiempo Total: {sum(minutos)} minutes\n",
    "    Combustible Total: {sum(depositoC.values())}\n",
    "    \"\"\"\n",
    "    for name, gallons in depositoC.items():\n",
    "        reporteP += f\"{name} tanque --> {gallons} galones restantes\\n\"\n",
    "    return reporteP\n",
    "\n",
    "print(reporte(\"of the Moon\", 8, 11, 55, t2=500, t1=100))"
   ]
  }
 ],
 "metadata": {
  "interpreter": {
   "hash": "fce4a3f22f87a0e571d41e2ed6de2d579509055d51fc2963e886be595ffc361e"
  },
  "kernelspec": {
   "display_name": "Python 3.10.2 64-bit",
   "language": "python",
   "name": "python3"
  },
  "language_info": {
   "codemirror_mode": {
    "name": "ipython",
    "version": 3
   },
   "file_extension": ".py",
   "mimetype": "text/x-python",
   "name": "python",
   "nbconvert_exporter": "python",
   "pygments_lexer": "ipython3",
   "version": "3.10.2"
  },
  "orig_nbformat": 4
 },
 "nbformat": 4,
 "nbformat_minor": 2
}
